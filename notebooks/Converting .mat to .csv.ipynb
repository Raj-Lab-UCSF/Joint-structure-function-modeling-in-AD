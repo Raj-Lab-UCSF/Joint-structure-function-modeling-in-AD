{
 "cells": [
  {
   "cell_type": "code",
   "execution_count": 1,
   "id": "bd843bf1-4f5b-49d1-b505-0d6bcc603ba7",
   "metadata": {},
   "outputs": [
    {
     "name": "stderr",
     "output_type": "stream",
     "text": [
      "/home/robin/.local/lib/python3.8/site-packages/pandas/core/computation/expressions.py:20: UserWarning: Pandas requires version '2.7.3' or newer of 'numexpr' (version '2.7.1' currently installed).\n",
      "  from pandas.core.computation.check import NUMEXPR_INSTALLED\n"
     ]
    }
   ],
   "source": [
    "import scipy.io\n",
    "import pandas as pd\n",
    "from scipy.io import loadmat"
   ]
  },
  {
   "cell_type": "code",
   "execution_count": 6,
   "id": "23ce5035-486e-447b-b63d-5db5469a2d81",
   "metadata": {},
   "outputs": [
    {
     "name": "stdout",
     "output_type": "stream",
     "text": [
      "dict_keys(['__header__', '__version__', '__globals__', 'ROI_VOLUMES'])\n"
     ]
    }
   ],
   "source": [
    "# Load the .mat file\n",
    "mat_data = scipy.io.loadmat('DK_ROI_volumes.mat')\n",
    "\n",
    "# Print the keys\n",
    "print(mat_data.keys())"
   ]
  },
  {
   "cell_type": "code",
   "execution_count": 8,
   "id": "e984e641-285c-4adb-82bc-6bbce743be4c",
   "metadata": {},
   "outputs": [],
   "source": [
    "# Access the data\n",
    "data = mat['ROI_VOLUMES']\n",
    "\n",
    "# Convert to DataFrame\n",
    "df = pd.DataFrame(data)\n",
    "\n",
    "# Save as .csv\n",
    "df.to_csv('output.csv', index=False)  # 'index=False' to avoid writing row numbers"
   ]
  }
 ],
 "metadata": {
  "kernelspec": {
   "display_name": "Python 3 (ipykernel)",
   "language": "python",
   "name": "python3"
  },
  "language_info": {
   "codemirror_mode": {
    "name": "ipython",
    "version": 3
   },
   "file_extension": ".py",
   "mimetype": "text/x-python",
   "name": "python",
   "nbconvert_exporter": "python",
   "pygments_lexer": "ipython3",
   "version": "3.8.10"
  }
 },
 "nbformat": 4,
 "nbformat_minor": 5
}
